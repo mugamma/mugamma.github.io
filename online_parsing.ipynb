{
 "cells": [
  {
   "cell_type": "code",
   "execution_count": 1,
   "metadata": {},
   "outputs": [
    {
     "name": "stdout",
     "output_type": "stream",
     "text": [
      "pybullet build time: Aug 12 2020 21:26:20\n"
     ]
    }
   ],
   "source": [
    "include(\"../src/ccgsemparser/semantic_parser.jl\")\n",
    "import PyCall: PyReverseDims\n",
    "import PyPlot\n",
    "import StaticArrays: @SArray, SVector\n",
    "import Base.Iterators: product\n",
    "import MetaGraphs: get_prop, set_prop!, nv, edges\n",
    "import GenSceneGraphs: SceneGraph, addObject!, setPose!, setContact!, Box, scaleBox, setDiagnosticViz!,\n",
    "                       renderScene, Pose, CameraConfig, LightingConfig, ViewSpec, \n",
    "                       compileContactGraph!, getContactPlane, getAbsolutePose, cameraConfigFromAngleAspect,\n",
    "                       convertSceneGraphToGraphViz\n",
    "import GenSceneGraphs.YCB: mustardBottle, crackerBox, sugarBox, pottedMeatCan, tomatoSoupCan, gelatinBox,\n",
    "                           bleachCleanser, origSizeCm, conventionalTop, conventionalBottom, conventionalFront,\n",
    "                           conventionalBack, setAssetDir;"
   ]
  },
  {
   "cell_type": "code",
   "execution_count": 2,
   "metadata": {},
   "outputs": [],
   "source": [
    "import .CCGSemanticParser.CCGs: CombinatoryCategorialGrammar, Lexicon,\n",
    "                                factored_lexical_entries,\n",
    "                                factored_type_shifting_rules,\n",
    "                                LexicalEntry, Category, chart_parse,\n",
    "                                category, logical_form, syntactic_type,\n",
    "                                @primitive_syntactic_type\n",
    "                   \n",
    "import .CCGSemanticParser.CCGVis: render_parse_tree_latex\n",
    "import .CCGSemanticParser.LambdaCalculus: @variable, @constant, lambda, ≃, Constant, lambda_reduce\n",
    "import .CCGSemanticParser.LambdaLogic: @predicate, and, Model, assert!, constants,\n",
    "                                       interpret, yes, no, has_constant, add_constant!\n",
    "\n",
    "λ = lambda; # aesthetics"
   ]
  },
  {
   "cell_type": "code",
   "execution_count": 3,
   "metadata": {},
   "outputs": [],
   "source": [
    "setAssetDir(\"/GenSceneGraphs/src/assets/ycb/models\"); # XXX use your local path"
   ]
  },
  {
   "cell_type": "markdown",
   "metadata": {},
   "source": [
    "## The Grammar"
   ]
  },
  {
   "cell_type": "code",
   "execution_count": 4,
   "metadata": {},
   "outputs": [],
   "source": [
    "@primitive_syntactic_type NP N PP\n",
    "@variable x y f\n",
    "\n",
    "@constant box can bottle meat soup sugar gelatin mustard cracker bleach \n",
    "\n",
    "@predicate Shape Content 2\n",
    "@predicate OnTopOf Underneath RightOf LeftOf InFrontOf Behind 2;"
   ]
  },
  {
   "cell_type": "code",
   "execution_count": 5,
   "metadata": {},
   "outputs": [],
   "source": [
    "relation_lexemes = [(\"on top of\", (OnTopOf,)),\n",
    "                    (\"underneath\", (Underneath,)),\n",
    "                    (\"behind\", (Behind,)),\n",
    "                    (\"in front of\", (InFrontOf,)),\n",
    "                    (\"on the right of\", (RightOf,)),\n",
    "                    (\"on the left of\", (LeftOf,))]\n",
    "relation_left_template(pred) = Category((NP/NP)\\NP, λ(f, λ(y, λ(x, and(f(x), pred(x, y))))))\n",
    "relation_right_template(pred) = Category(PP/NP, λ(y, λ(x, pred(x, y))))\n",
    "\n",
    "object_lexemes = [(\"meat can\", (meat, can)), (\"soup can\", (soup, can)),\n",
    "                 (\"sugar box\", (sugar, box)), (\"gelatin box\", (gelatin, box)),\n",
    "                 (\"mustard bottle\", (mustard, bottle)), (\"bleach bottle\", (bleach, bottle)),\n",
    "                 (\"cracker box\", (cracker, box))]\n",
    "object_template(content, shape) = Category(N, λ(x, and(Shape(x, shape), Content(x, content))))\n",
    "object_modified_template(content, shape) = Category(N/PP,\n",
    "    λ(f, λ(x, and(f(x), Shape(x, shape), Content(x, content)))))\n",
    "\n",
    "bare_object_lexemes = [(\"box\", (box,)), (\"can\", (can,)), (\"bottle\", (bottle,))]\n",
    "bare_object_template(shape) = Category(N, λ(x, Shape(x, shape)))\n",
    "bare_object_modified_template(shape) = Category(N/PP, λ(f, λ(x, and(Shape(x, shape), f(x)))))\n",
    "\n",
    "lexicon = Lexicon([\n",
    "    LexicalEntry(\"a\", NP/N, λ(x, x)),\n",
    "    factored_lexical_entries(relation_lexemes, relation_left_template)...,\n",
    "    factored_lexical_entries(relation_lexemes, relation_right_template)...,\n",
    "    factored_lexical_entries(object_lexemes, object_template)...,\n",
    "    factored_lexical_entries(object_lexemes, object_modified_template)...,\n",
    "    factored_lexical_entries(bare_object_lexemes, bare_object_template)...,\n",
    "    factored_lexical_entries(bare_object_lexemes, bare_object_modified_template)...,\n",
    "])\n",
    "\n",
    "type_shifting_rules = Dict{String, Vector{Category}}()\n",
    "\n",
    "grammar = CombinatoryCategorialGrammar(lexicon, type_shifting_rules);"
   ]
  },
  {
   "cell_type": "code",
   "execution_count": 6,
   "metadata": {},
   "outputs": [],
   "source": [
    "import .CCGSemanticParser.CCGs: type_shifted_lexical_entries,\n",
    "                                InvalidCCGOperation, Left, Right,\n",
    "                                apply, compose, lexeme,\n",
    "                                CCGParseTreeNode, CCGParseTreeLeaf,\n",
    "                                BinaryInternalNode,\n",
    "                                cat_combinations, left_child,\n",
    "                                right_child, lexical_entry, tokenize,\n",
    "                                syntactic_type, ComplexSyntacticType,\n",
    "                                arg, res, agrees, compose,\n",
    "                                CategoryComposition, CategoryApplication"
   ]
  },
  {
   "cell_type": "code",
   "execution_count": 7,
   "metadata": {},
   "outputs": [
    {
     "data": {
      "text/plain": [
       "get_sentence (generic function with 2 methods)"
      ]
     },
     "execution_count": 7,
     "metadata": {},
     "output_type": "execute_result"
    }
   ],
   "source": [
    "get_sentence(leaf::CCGParseTreeLeaf) = lexeme(lexical_entry(leaf))\n",
    "get_sentence(node::BinaryInternalNode) = join(map(f->get_sentence(f(node)), (left_child, right_child)), \" \")"
   ]
  },
  {
   "cell_type": "code",
   "execution_count": 8,
   "metadata": {},
   "outputs": [
    {
     "data": {
      "text/plain": [
       "LR_parse (generic function with 1 method)"
      ]
     },
     "execution_count": 8,
     "metadata": {},
     "output_type": "execute_result"
    }
   ],
   "source": [
    "function LR_parse(sentence)\n",
    "    fringe = [CCGParseTreeLeaf(LexicalEntry(\"a\", NP/N, λ(x, x)))]\n",
    "    leaves = map(CCGParseTreeLeaf, type_shifted_lexical_entries(grammar))\n",
    "    evidence = \"a\"\n",
    "    for token in tokenize(sentence, grammar)[2:end]\n",
    "        new_fringe = []\n",
    "        evidence *= \" \" * token\n",
    "        while !isempty(fringe)\n",
    "            state = pop!(fringe)\n",
    "            for leaf in leaves\n",
    "                new_combinations = filter(pt->(get_sentence(pt) == evidence),\n",
    "                                          cat_combinations(state, leaf))\n",
    "                append!(new_fringe, new_combinations)\n",
    "            end\n",
    "        end\n",
    "        fringe = new_fringe\n",
    "    end\n",
    "    fringe\n",
    "end"
   ]
  },
  {
   "cell_type": "code",
   "execution_count": 9,
   "metadata": {},
   "outputs": [],
   "source": [
    "function unique_forms(parses, criterion=t->true)\n",
    "    valid_parses = filter(criterion, parses);\n",
    "    forms = []\n",
    "    for form in map(logical_form ∘ category, valid_parses)\n",
    "        if all(f->!(f ≃ form), forms)\n",
    "            push!(forms, form)\n",
    "        end\n",
    "    end\n",
    "    forms\n",
    "end;"
   ]
  },
  {
   "cell_type": "code",
   "execution_count": 10,
   "metadata": {},
   "outputs": [
    {
     "data": {
      "text/plain": [
       "2-element Array{Any,1}:\n",
       " λx.((Shape x box)∧(Content x sugar)∧(Behind x λx.((OnTopOf x λx.((Shape x bottle)∧(Content x mustard)))∧(Shape x can)∧(Content x meat))))\n",
       " λx.((Shape x box)∧(Content x sugar)∧(Behind x λx.((Shape x can)∧(Content x meat)))∧(OnTopOf x λx.((Shape x bottle)∧(Content x mustard))))"
      ]
     },
     "execution_count": 10,
     "metadata": {},
     "output_type": "execute_result"
    }
   ],
   "source": [
    "unique_forms(LR_parse(\"a sugar box behind a meat can on top of a mustard bottle\"),\n",
    "             pt->syntactic_type(category(pt)) == NP)"
   ]
  },
  {
   "cell_type": "markdown",
   "metadata": {},
   "source": [
    "# The Scene"
   ]
  },
  {
   "cell_type": "code",
   "execution_count": 11,
   "metadata": {},
   "outputs": [],
   "source": [
    "import Rotations: RotMatrix"
   ]
  },
  {
   "cell_type": "code",
   "execution_count": 12,
   "metadata": {},
   "outputs": [],
   "source": [
    "CAMERA_HEIGHT = 15.0\n",
    "CAMERA_ANGLE = 0.0\n",
    "CAMERA_DIST_FROM_ORIGIN = 30.0\n",
    "CELL_EDGE_LENGTH = 3.5\n",
    "FLOOR_SIZE = 100.0\n",
    "EPSILON = 1e-3\n",
    "YCB_OBJECTS = [mustardBottle, crackerBox, sugarBox, pottedMeatCan, tomatoSoupCan, gelatinBox, bleachCleanser]\n",
    "YCB_COLORS =  [:goldenrod, :crimson, :yellow, :blue, :maroon, :DarkOrange, :white];"
   ]
  },
  {
   "cell_type": "code",
   "execution_count": 13,
   "metadata": {},
   "outputs": [],
   "source": [
    "ycb_name(ycb_object) = split(string(ycb_object), '.')[end][1:end-2]\n",
    "ycb_color(ycb_object) = YCB_COLORS[findfirst(isequal(ycb_object), YCB_OBJECTS)];"
   ]
  },
  {
   "cell_type": "code",
   "execution_count": 14,
   "metadata": {},
   "outputs": [],
   "source": [
    "function floor_contact_params(row, col, θ, nrows, ncols)\n",
    "    scene_length, scene_width = CELL_EDGE_LENGTH .* [ncols, nrows]\n",
    "    (scene_length / (2ncols) * (2col - 1 - ncols),\n",
    "        -scene_width / (2nrows) * (nrows + 1 - 2row), θ)\n",
    "end\n",
    "\n",
    "function scene_description_to_scene_graph(descr::Dict; bbox_only=false)\n",
    "    g = SceneGraph()\n",
    "    addObject!(g, :floor, Box(FLOOR_SIZE, FLOOR_SIZE, 1.))\n",
    "    setPose!(g, :floor, [0., 0., -0.5], (yaw=0, pitch=0, roll=0))\n",
    "    obj_at_coord, nrows, ncols = Dict(), descr[:nrows], descr[:ncols]\n",
    "    for i=1:Int(descr[:nobjs])\n",
    "        obj_type, (x, y), θ = map(s->descr[:objs => i => s], (:obj_type, :grid_coords, :contact_angle))\n",
    "        name = Symbol(ycb_name(obj_type), i)\n",
    "        parent, parent_contact_plane = get(obj_at_coord, (x, y), (:floor, :top))\n",
    "        contact_params = parent == :floor ? floor_contact_params(y, x, θ, nrows, ncols) : (0, 0, θ)\n",
    "        addObject!(g, name, scaleBox(origSizeCm(obj_type), 0.2))\n",
    "        if bbox_only\n",
    "            setDiagnosticViz!(g, name, bbox=true, color=ycb_color(obj_type))\n",
    "        end\n",
    "        setContact!(g, parent, parent_contact_plane, (), name, conventionalBottom(obj_type), (), contact_params...)\n",
    "        obj_at_coord[(x, y)] = (name, conventionalTop(obj_type))\n",
    "    end\n",
    "    return g\n",
    "end;"
   ]
  },
  {
   "cell_type": "code",
   "execution_count": 15,
   "metadata": {},
   "outputs": [],
   "source": [
    "cross(v::SVector{3}, u::SVector{3}) = \n",
    "    @SArray([v[2]*u[3]- v[3]*u[2], v[3]*u[1] - v[1]*u[3], v[1]*u[2] - v[2] * u[1]]);"
   ]
  },
  {
   "cell_type": "code",
   "execution_count": 16,
   "metadata": {},
   "outputs": [],
   "source": [
    "normalize_euc(v::AbstractArray{T}) where {T<:Real} = v ./ sqrt(sum(v.^2));"
   ]
  },
  {
   "cell_type": "code",
   "execution_count": 17,
   "metadata": {},
   "outputs": [],
   "source": [
    "function project_on_plane(obj::Pose, plane::Pose)\n",
    "    p, n = plane.pos, plane.orientation[:, 3]\n",
    "    obj.pos + ((p - obj.pos)' * n) * n\n",
    "end;"
   ]
  },
  {
   "cell_type": "code",
   "execution_count": 18,
   "metadata": {},
   "outputs": [
    {
     "data": {
      "text/plain": [
       "camera_eye_pose (generic function with 1 method)"
      ]
     },
     "execution_count": 18,
     "metadata": {},
     "output_type": "execute_result"
    }
   ],
   "source": [
    "function camera_eye_pose(dist_from_origin::Real, θ::Real, z::Real)\n",
    "    R = dist_from_origin;\n",
    "    eyeCoords = let r = sqrt(R^2 - z^2); @SArray([r*cos(θ), r*sin(θ), z]) end\n",
    "    camFrameZdirection = let (x, y, z) = eyeCoords;\n",
    "                             @SArray([-x*z, -y*z, x^2 + y^2]) end\n",
    "    rotmat = hcat(normalize_euc.([-cross(eyeCoords, camFrameZdirection),\n",
    "                                  -eyeCoords, camFrameZdirection])...)\n",
    "    Pose(zeros(3), RotMatrix{3}(rotmat)) * Pose([0, -R, 0], one(RotMatrix{3}))\n",
    "end"
   ]
  },
  {
   "cell_type": "code",
   "execution_count": 55,
   "metadata": {},
   "outputs": [],
   "source": [
    "function render_scene(scene::Dict; bbox_only=false, top=false)\n",
    "    g = scene_description_to_scene_graph(scene; bbox_only=bbox_only)\n",
    "    if top \n",
    "        camera_pose = camera_eye_pose(CAMERA_DIST_FROM_ORIGIN, CAMERA_ANGLE, CAMERA_HEIGHT)\n",
    "    else\n",
    "        camera_pose = camera_eye_pose(CAMERA_DIST_FROM_ORIGIN, CAMERA_ANGLE, 10)\n",
    "    end\n",
    "    camera = cameraConfigFromAngleAspect(\n",
    "                      cameraEyePose=camera_pose,\n",
    "                      fovDegrees=60.0, aspect=1.0, nearVal=0.01, farVal=50.0)\n",
    "    lighting = LightingConfig(lightDirection=@SArray([-1, -2, -1]), ambientCoeff=1.2)\n",
    "    rgba, = renderScene(g; width=512, height=512, view=ViewSpec(camera, lighting))\n",
    "    PyReverseDims(permutedims(rgba, [3, 2, 1])) # XXX too hacky!\n",
    "end;"
   ]
  },
  {
   "cell_type": "code",
   "execution_count": 56,
   "metadata": {},
   "outputs": [],
   "source": [
    "# example scene in the slides\n",
    "scene = Dict([\n",
    "    :nobjs => 6,\n",
    "    :nrows => 5,\n",
    "    :ncols => 5,\n",
    "    (:objs => (1 => :grid_coords)) => (5, 3),\n",
    "    (:objs => (1 => :obj_type)) => crackerBox,\n",
    "    (:objs => (1 => :contact_angle)) => π/4,\n",
    "    (:objs => (2 => :grid_coords)) => (4, 3),\n",
    "    (:objs => (2 => :obj_type)) => tomatoSoupCan,\n",
    "    (:objs => (2 => :contact_angle)) => 0,\n",
    "    (:objs => (3 => :grid_coords)) => (4, 4),\n",
    "    (:objs => (3 => :obj_type)) => mustardBottle,\n",
    "    (:objs => (3 => :contact_angle)) => 0,\n",
    "    (:objs => (4 => :grid_coords)) => (2, 3),\n",
    "    (:objs => (4 => :obj_type)) => mustardBottle,\n",
    "    (:objs => (4 => :contact_angle)) => π/3,\n",
    "    (:objs => (5 => :grid_coords)) => (2, 2),\n",
    "    (:objs => (5 => :obj_type)) => pottedMeatCan,\n",
    "    (:objs => (5 => :contact_angle)) => 6π/7,\n",
    "    (:objs => (6 => :grid_coords)) => (3, 2),\n",
    "    (:objs => (6 => :obj_type)) => sugarBox,\n",
    "    (:objs => (6 => :contact_angle)) => 5π/7,\n",
    "]);"
   ]
  },
  {
   "cell_type": "code",
   "execution_count": 64,
   "metadata": {},
   "outputs": [],
   "source": [
    "scene_image = render_scene(scene; bbox_only=false)\n",
    "scene_wireframe = render_scene(scene; bbox_only=true);"
   ]
  },
  {
   "cell_type": "code",
   "execution_count": 65,
   "metadata": {},
   "outputs": [
    {
     "data": {
      "image/png": "[encoded data removed]",
      "text/plain": [
       "PyPlot.Figure(PyObject <Figure size 1200x600 with 2 Axes>)"
      ]
     },
     "metadata": {},
     "output_type": "display_data"
    },
    {
     "data": {
      "text/plain": [
       "PyObject <matplotlib.image.AxesImage object at 0x7f8717219e48>"
      ]
     },
     "execution_count": 65,
     "metadata": {},
     "output_type": "execute_result"
    }
   ],
   "source": [
    "fig, axes = PyPlot.subplots(1, 2; figsize=(12, 6))\n",
    "axes[1].axis(\"off\")\n",
    "axes[1].imshow(scene_image)\n",
    "axes[2].axis(\"off\")\n",
    "axes[2].imshow(scene_wireframe)"
   ]
  },
  {
   "cell_type": "markdown",
   "metadata": {},
   "source": [
    "# Knowledge Base"
   ]
  },
  {
   "cell_type": "code",
   "execution_count": 23,
   "metadata": {},
   "outputs": [
    {
     "data": {
      "text/plain": [
       "make_scene_model (generic function with 1 method)"
      ]
     },
     "execution_count": 23,
     "metadata": {},
     "output_type": "execute_result"
    }
   ],
   "source": [
    "function compile_scene_to_camera_frame_poses!(scene::Dict)\n",
    "    g = scene_description_to_scene_graph(scene)\n",
    "    compileContactGraph!(g)\n",
    "    camera_frame = camera_eye_pose(CAMERA_DIST_FROM_ORIGIN,\n",
    "                                   CAMERA_ANGLE,\n",
    "                                   CAMERA_HEIGHT)\n",
    "    for v in 1:nv(g)\n",
    "        set_prop!(g, v, :absolutePose, camera_frame \\ get_prop(g, v, :absolutePose))\n",
    "    end\n",
    "    g\n",
    "end\n",
    "\n",
    "function add_spatial_relations!(m::Model, scene::Dict)\n",
    "    g = compile_scene_to_camera_frame_poses!(scene)\n",
    "    for extractor in (extract_xy, )#extract_z)\n",
    "        for fact in extractor(g)\n",
    "            assert!(m, fact)\n",
    "        end\n",
    "    end\n",
    "end\n",
    "\n",
    "function extract_z(g)\n",
    "    vertex_names(edge) = map(v->Constant(get_prop(g, v, :name)),\n",
    "                             (edge.dst, edge.src))\n",
    "    [[OnTopOf(vertex_names(edge)...) for edge in edges(g) if !(:floor in vertex_names(edge))];\n",
    "     [Underneath(reverse(vertex_names(edge))...) for edge in edges(g) if !(:floor in vertex_names(edge))]]\n",
    "        \n",
    "end\n",
    "\n",
    "function extract_xy(g) \n",
    "    floor = get_prop(g, g[:floor, :name], :shape)\n",
    "    floor_pose = get_prop(g, g[:floor, :name], :absolutePose)\n",
    "    floor_plane = getContactPlane(floor, :top) * floor_pose\n",
    "    floor_coords(obj) = project_on_plane(getAbsolutePose(g, obj), floor_plane)\n",
    "    objs = map(v->get_prop(g, v, :name), 2:nv(g))\n",
    "    [[RightOf(Constant(x), Constant(y)) for (x, y) in product(objs, objs)\n",
    "          if EPSILON < floor_coords(x)[1] - floor_coords(y)[1]];\n",
    "     [LeftOf(Constant(y), Constant(x)) for (x, y) in product(objs, objs)\n",
    "          if EPSILON < floor_coords(x)[1] - floor_coords(y)[1]];\n",
    "     [InFrontOf(Constant(x), Constant(y)) for (x, y) in product(objs, objs)\n",
    "          if EPSILON < floor_coords(y)[2] - floor_coords(x)[2]];\n",
    "     [Behind(Constant(y), Constant(x)) for (x, y) in product(objs, objs)\n",
    "          if EPSILON < floor_coords(y)[2] - floor_coords(x)[2]]]\n",
    "end\n",
    "\n",
    "function add_object_descriptions!(m::Model, scene::Dict)\n",
    "    content = Dict([mustardBottle => mustard, crackerBox => cracker, sugarBox => sugar,\n",
    "                    pottedMeatCan => meat, tomatoSoupCan => soup, gelatinBox => gelatin,\n",
    "                    bleachCleanser => bleach])\n",
    "    shape = Dict([mustardBottle => bottle, crackerBox => box, sugarBox => box,\n",
    "                    pottedMeatCan => can, tomatoSoupCan => can, gelatinBox => box,\n",
    "                    bleachCleanser => bottle])\n",
    "    for i=1:Int(scene[:nobjs])\n",
    "        obj_type = scene[:objs=>i=>:obj_type]\n",
    "        obj = Constant(Symbol(ycb_name(obj_type), i))\n",
    "        assert!(m, Shape(obj, shape[obj_type]))\n",
    "        assert!(m, Content(obj, content[obj_type]))\n",
    "    end\n",
    "end\n",
    "\n",
    "function make_scene_model(scene::Dict)\n",
    "    m = Model()\n",
    "    add_object_descriptions!(m, scene)\n",
    "    add_spatial_relations!(m, scene)\n",
    "    foreach(c->add_constant!(m, c),\n",
    "            filter(c->!has_constant(m, c),\n",
    "                   [box, can, bottle, meat, soup, sugar, gelatin, mustard, cracker, bleach]))\n",
    "    m\n",
    "end"
   ]
  },
  {
   "cell_type": "markdown",
   "metadata": {},
   "source": [
    "# The Generative Model"
   ]
  },
  {
   "cell_type": "code",
   "execution_count": 24,
   "metadata": {},
   "outputs": [
    {
     "name": "stderr",
     "output_type": "stream",
     "text": [
      "WARNING: using Gen.apply in module Main conflicts with an existing identifier.\n"
     ]
    }
   ],
   "source": [
    "using Gen"
   ]
  },
  {
   "cell_type": "code",
   "execution_count": 25,
   "metadata": {},
   "outputs": [],
   "source": [
    "m = make_scene_model(scene);"
   ]
  },
  {
   "cell_type": "code",
   "execution_count": 26,
   "metadata": {},
   "outputs": [],
   "source": [
    "@dist uniform_vector(vec::Vector) = vec[uniform_discrete(1, length(vec))];"
   ]
  },
  {
   "cell_type": "code",
   "execution_count": 27,
   "metadata": {},
   "outputs": [],
   "source": [
    "struct PointMass{T} <: Distribution{T} end\n",
    "point_mass(x::T) where T = (PointMass{T}())(x)\n",
    "Gen.random(::PointMass{T}, support::T) where T = support\n",
    "function Gen.logpdf(::PointMass{T}, choice::T, support::T) where T\n",
    "    choice == support ? 0.0 : -Inf\n",
    "end\n",
    "(d::PointMass{T})(support::T) where T = random(d, support)"
   ]
  },
  {
   "cell_type": "code",
   "execution_count": 28,
   "metadata": {},
   "outputs": [
    {
     "data": {
      "text/plain": [
       "is_semantically_valid (generic function with 1 method)"
      ]
     },
     "execution_count": 28,
     "metadata": {},
     "output_type": "execute_result"
    }
   ],
   "source": [
    "function is_semantically_valid(n::CCGParseTreeNode, target::Constant)\n",
    "    if syntactic_type(category(n)) in (N, NP)\n",
    "        res = interpret(m, logical_form(category(n)))(target)\n",
    "    else\n",
    "        unpred = lambda_reduce(logical_form(category(n))(λ(x, yes)))\n",
    "        res = interpret(m, unpred)(target)\n",
    "    end\n",
    "    res\n",
    "end"
   ]
  },
  {
   "cell_type": "code",
   "execution_count": 29,
   "metadata": {},
   "outputs": [],
   "source": [
    "@gen function generate_sentence(len::Int)\n",
    "    target ~ uniform_vector([Constant(Symbol(ycb_name(scene[:objs => i => :obj_type]), i)) for i=1:scene[:nobjs]])\n",
    "    state = nothing\n",
    "    leaves = map(CCGParseTreeLeaf, type_shifted_lexical_entries(grammar))\n",
    "    for i=1:len\n",
    "        if i == 1\n",
    "            state = ({:state => i} ~ (PointMass{CCGParseTreeNode}())(CCGParseTreeLeaf(LexicalEntry(\"a\", NP/N, λ(x, x)))))\n",
    "        else\n",
    "            possible_combinations = filter(n->is_semantically_valid(n, target),\n",
    "                                           vcat(map(n->cat_combinations(state, n), leaves)...))\n",
    "            if isempty(possible_combinations)\n",
    "                {:state => i} ~ (PointMass{CCGParseTreeNode}())(state)\n",
    "            else\n",
    "                state = ({:state => i} ~ uniform_vector(possible_combinations))\n",
    "            end\n",
    "        end\n",
    "        {:emission => i} ~ (PointMass{String}())(get_sentence(state))\n",
    "    end\n",
    "end;"
   ]
  },
  {
   "cell_type": "code",
   "execution_count": 30,
   "metadata": {},
   "outputs": [
    {
     "data": {
      "text/plain": [
       "│\n",
       "├── :target : PottedMeatCan5\n",
       "│\n",
       "├── :emission\n",
       "│   │\n",
       "│   ├── 4 : a can behind a\n",
       "│   │\n",
       "│   ├── 2 : a can\n",
       "│   │\n",
       "│   ├── 3 : a can behind\n",
       "│   │\n",
       "│   ├── 5 : a can behind a box\n",
       "│   │\n",
       "│   └── 1 : a\n",
       "│\n",
       "└── :state\n",
       "    │\n",
       "    ├── 4 : BinaryInternalNode{Val{:composition},Val{:right}}(BinaryInternalNode{Val{:application},Val{:left}}(BinaryInternalNode{Val{:application},Val{:right}}(CCGParseTreeLeaf(LexicalEntry(\"a\", Category(NP/N, λx.x))), CCGParseTreeLeaf(LexicalEntry(\"can\", Category(N, λx.(Shape x can)))), Category(NP, λx.(Shape x can))), CCGParseTreeLeaf(LexicalEntry(\"behind\", Category(NP/NP\\NP, λf.λy.λx.((f x)∧(Behind x y))))), Category(NP/NP, λy.λx.((Shape x can)∧(Behind x y)))), CCGParseTreeLeaf(LexicalEntry(\"a\", Category(NP/N, λx.x))), Category(NP/N, λy.λx.((Shape x can)∧(Behind x y))))\n",
       "    │\n",
       "    ├── 2 : BinaryInternalNode{Val{:application},Val{:right}}(CCGParseTreeLeaf(LexicalEntry(\"a\", Category(NP/N, λx.x))), CCGParseTreeLeaf(LexicalEntry(\"can\", Category(N, λx.(Shape x can)))), Category(NP, λx.(Shape x can)))\n",
       "    │\n",
       "    ├── 3 : BinaryInternalNode{Val{:application},Val{:left}}(BinaryInternalNode{Val{:application},Val{:right}}(CCGParseTreeLeaf(LexicalEntry(\"a\", Category(NP/N, λx.x))), CCGParseTreeLeaf(LexicalEntry(\"can\", Category(N, λx.(Shape x can)))), Category(NP, λx.(Shape x can))), CCGParseTreeLeaf(LexicalEntry(\"behind\", Category(NP/NP\\NP, λf.λy.λx.((f x)∧(Behind x y))))), Category(NP/NP, λy.λx.((Shape x can)∧(Behind x y))))\n",
       "    │\n",
       "    ├── 5 : BinaryInternalNode{Val{:application},Val{:right}}(BinaryInternalNode{Val{:composition},Val{:right}}(BinaryInternalNode{Val{:application},Val{:left}}(BinaryInternalNode{Val{:application},Val{:right}}(CCGParseTreeLeaf(LexicalEntry(\"a\", Category(NP/N, λx.x))), CCGParseTreeLeaf(LexicalEntry(\"can\", Category(N, λx.(Shape x can)))), Category(NP, λx.(Shape x can))), CCGParseTreeLeaf(LexicalEntry(\"behind\", Category(NP/NP\\NP, λf.λy.λx.((f x)∧(Behind x y))))), Category(NP/NP, λy.λx.((Shape x can)∧(Behind x y)))), CCGParseTreeLeaf(LexicalEntry(\"a\", Category(NP/N, λx.x))), Category(NP/N, λy.λx.((Shape x can)∧(Behind x y)))), CCGParseTreeLeaf(LexicalEntry(\"box\", Category(N, λx.(Shape x box)))), Category(NP, λx.((Shape x can)∧(Behind x λx.(Shape x box)))))\n",
       "    │\n",
       "    └── 1 : CCGParseTreeLeaf(LexicalEntry(\"a\", Category(NP/N, λx.x)))\n"
      ]
     },
     "execution_count": 30,
     "metadata": {},
     "output_type": "execute_result"
    }
   ],
   "source": [
    "tr, w = generate(generate_sentence, (5,))\n",
    "get_choices(tr)"
   ]
  },
  {
   "cell_type": "markdown",
   "metadata": {},
   "source": [
    "# Inference"
   ]
  },
  {
   "cell_type": "code",
   "execution_count": 84,
   "metadata": {},
   "outputs": [],
   "source": [
    "function particle_filter(num_particles::Int, sentence::String)\n",
    "    tokens = tokenize(sentence, grammar)\n",
    "    evidence = tokens[1]\n",
    "    init_obs = choicemap((:emission => 1, evidence))\n",
    "    state = initialize_particle_filter(generate_sentence, (1,), init_obs, num_particles)\n",
    "    # steps\n",
    "    for t=2:length(tokens)\n",
    "        visualize_particle_filter_state(state, evidence)\n",
    "        maybe_resample!(state, ess_threshold=num_particles)\n",
    "        evidence *= \" \" * tokens[t]\n",
    "        obs = Gen.choicemap((:emission => t, evidence))\n",
    "        particle_filter_step!(state, (t,), (UnknownChange(),), obs)\n",
    "    end\n",
    "    \n",
    "    # return a sample of unweighted traces from the weighted collection\n",
    "    return sample_unweighted_traces(state, num_particles)\n",
    "end;"
   ]
  },
  {
   "cell_type": "code",
   "execution_count": 87,
   "metadata": {},
   "outputs": [
    {
     "name": "stdout",
     "output_type": "stream",
     "text": [
      "Dict{Any,Any}(CrackerBox1 => 14,PottedMeatCan5 => 12,SugarBox6 => 8,MustardBottle4 => 24,TomatoSoupCan2 => 18,MustardBottle3 => 24)\n",
      "Dict{Any,Any}(PottedMeatCan5 => 46,TomatoSoupCan2 => 54)\n"
     ]
    }
   ],
   "source": [
    "traces = particle_filter(100, \"a can behind\");"
   ]
  },
  {
   "cell_type": "markdown",
   "metadata": {},
   "source": [
    "# Visualization"
   ]
  },
  {
   "cell_type": "code",
   "execution_count": 81,
   "metadata": {},
   "outputs": [
    {
     "data": {
      "text/plain": [
       "target_weights (generic function with 1 method)"
      ]
     },
     "execution_count": 81,
     "metadata": {},
     "output_type": "execute_result"
    }
   ],
   "source": [
    "function target_weights(particle_filter_state)\n",
    "    target_weights = Dict()\n",
    "    for tr in sample_unweighted_traces(particle_filter_state, 100)\n",
    "        target_weights[tr[:target]] = get(target_weights, tr[:target], 0) + 1\n",
    "    end\n",
    "    target_weights\n",
    "end"
   ]
  },
  {
   "cell_type": "code",
   "execution_count": 86,
   "metadata": {},
   "outputs": [],
   "source": [
    "function visualize_particle_filter_state(particle_filter_state, evidence)\n",
    "    println(target_weights(particle_filter_state))\n",
    "    #fig, axes = PyPlot.subplots(2, 2; figsize=(12, 12))\n",
    "    #axes[1, 2].axis(\"off\")\n",
    "    #axes[2, 2].axis(\"off\")\n",
    "    #axes[1, 2].imshow(scene_image)\n",
    "    #axes[2, 2].imshow(scene_wireframe)\n",
    "end;"
   ]
  },
  {
   "cell_type": "code",
   "execution_count": 83,
   "metadata": {},
   "outputs": [
    {
     "ename": "MethodError",
     "evalue": "MethodError: no method matching sample_unweighted_traces(::Int64, ::Int64)\nClosest candidates are:\n  sample_unweighted_traces(!Matched::Gen.ParticleFilterState{U}, ::Int64) where U at /root/.julia/packages/Gen/5JiNL/src/inference/particle_filter.jl:63",
     "output_type": "error",
     "traceback": [
      "MethodError: no method matching sample_unweighted_traces(::Int64, ::Int64)\nClosest candidates are:\n  sample_unweighted_traces(!Matched::Gen.ParticleFilterState{U}, ::Int64) where U at /root/.julia/packages/Gen/5JiNL/src/inference/particle_filter.jl:63",
      "",
      "Stacktrace:",
      " [1] target_weights(::Int64) at ./In[81]:3",
      " [2] visualize_particle_filter_state(::Int64, ::String) at ./In[82]:2",
      " [3] top-level scope at In[83]:1"
     ]
    }
   ],
   "source": [
    "visualize_particle_filter_state(0, \"a\")"
   ]
  },
  {
   "cell_type": "code",
   "execution_count": null,
   "metadata": {},
   "outputs": [],
   "source": []
  }
 ],
 "metadata": {
  "kernelspec": {
   "display_name": "Julia 1.4.1",
   "language": "julia",
   "name": "julia-1.4"
  },
  "language_info": {
   "file_extension": ".jl",
   "mimetype": "application/julia",
   "name": "julia",
   "version": "1.4.1"
  }
 },
 "nbformat": 4,
 "nbformat_minor": 4
}
